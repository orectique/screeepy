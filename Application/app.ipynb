{
 "cells": [
  {
   "cell_type": "code",
   "execution_count": 1,
   "metadata": {},
   "outputs": [],
   "source": [
    "import sys, json, re"
   ]
  },
  {
   "cell_type": "code",
   "execution_count": 2,
   "metadata": {},
   "outputs": [],
   "source": [
    "from PySide6 import QtCore, QtWidgets, QtGui"
   ]
  },
  {
   "cell_type": "code",
   "execution_count": 3,
   "metadata": {},
   "outputs": [],
   "source": [
    "class MyWidget(QtWidgets.QWidget):\n",
    "    def __init__(self):\n",
    "        super().__init__()\n",
    "\n",
    "        self.setStyleSheet(\"background-color: white;\")\n",
    "\n",
    "        self.button = QtWidgets.QPushButton(\"convert to sBoooky 👻\")\n",
    "        self.text = QtWidgets.QLabel(alignment=QtCore.Qt.AlignCenter)\n",
    "\n",
    "        self.fileButton = QtWidgets.QPushButton(\"Select file 🔪\", )\n",
    "        self.destinationButton = QtWidgets.QPushButton(\"Select destination 🪦\")\n",
    "\n",
    "        self.file = QtWidgets.QLabel('', alignment=QtCore.Qt.AlignCenter) #QtWidgets.QFileDialog.getOpenFileName(self, 'Open file', 'c:\\\\', \"Python scripts (*.py)\")[0]\n",
    "        self.destination = QtWidgets.QLabel('', alignment=QtCore.Qt.AlignCenter)#QtWidgets.QFileDialog.getExistingDirectory(self, \"Select Directory\")\n",
    "\n",
    "        self.message = QtWidgets.QLabel('', alignment = QtCore.Qt.AlignCenter)\n",
    "\n",
    "        self.attr = QtWidgets.QLabel(\"Games icons created by Freepik - Flaticon\", alignment = QtCore.Qt.AlignCenter)\n",
    "\n",
    "        self.movie = QtGui.QMovie(\"./Assets/screee.gif\", )\n",
    "\n",
    "        self.fileButton.setStyleSheet(\"background-color: #f5f5f5; border: 1px solid #e0e0e0; border-radius: 5px; padding: 5px;\")\n",
    "        self.destinationButton.setStyleSheet(\"background-color: #f5f5f5; border: 1px solid #e0e0e0; border-radius: 5px; padding: 5px;\")\n",
    "        self.button.setStyleSheet(\"background-color: #f5f5f5; border: 1px solid #e0e0e0; border-radius: 5px; padding: 5px;\")\n",
    "\n",
    "        self.layout = QtWidgets.QVBoxLayout(self)\n",
    "        self.layout.addWidget(self.text)\n",
    "        self.text.setMovie(self.movie)\n",
    "        #self.layout.addItem(self.movie)\n",
    "        self.movie.start()\n",
    "        self.layout.addWidget(self.fileButton)\n",
    "        self.layout.addWidget(self.file)\n",
    "        self.layout.addWidget(self.destinationButton)\n",
    "        self.layout.addWidget(self.destination)\n",
    "        self.layout.addWidget(self.button)\n",
    "        self.layout.addWidget(self.message)\n",
    "\n",
    "        self.layout.addWidget(self.attr)\n",
    "\n",
    "        self.fileButton.clicked.connect(self.selectFile)\n",
    "        self.destinationButton.clicked.connect(self.selectDestination)\n",
    "        self.button.clicked.connect(self.magic)\n",
    "\n",
    "    def selectFile(self):\n",
    "        self.file.setText(QtWidgets.QFileDialog.getOpenFileName(self, 'Open file', 'c:\\\\', \"Python scripts (*.py)\")[0])\n",
    "    \n",
    "    def selectDestination(self):\n",
    "        self.destination.setText(QtWidgets.QFileDialog.getExistingDirectory(self, \"Select Directory\"))\n",
    "\n",
    "    @QtCore.Slot()\n",
    "    def magic(self):\n",
    "        try:\n",
    "            corpus = open(self.file.text(), \"r\").read()\n",
    "            splits = re.split('\\n\\n|\\n#+ ', corpus)\n",
    "\n",
    "            out = []\n",
    "            for token in splits:\n",
    "                if token.lstrip()[0] == '#':\n",
    "                    out.append(token.lstrip())\n",
    "                elif token[0].isspace() and token.lstrip()[0] != '#':\n",
    "                    out[-1] += '\\n' + token\n",
    "                else:\n",
    "                    out.append(token)\n",
    "\n",
    "            dictNotebook = {\n",
    "                \"cells\": [],\n",
    "                \"metadata\": {},\n",
    "                \"nbformat\": 6,\n",
    "                \"nbformat_minor\": 4\n",
    "                }\n",
    "\n",
    "            \n",
    "            cells = []\n",
    "            for code in out:\n",
    "                if code[0] == '#':\n",
    "                    cell = {\n",
    "                        \"cell_type\": \"markdown\",\n",
    "                        \"metadata\": {},\n",
    "                        \"source\": code\n",
    "                    }\n",
    "                else:\n",
    "                    cell = {\n",
    "                        \"cell_type\": \"code\",\n",
    "                        \"execution_count\": None,\n",
    "                        \"metadata\": {},\n",
    "                        \"outputs\": [],\n",
    "                        \"source\": code\n",
    "                    }\n",
    "                cells.append(cell)      \n",
    "            \n",
    "            dictNotebook[\"cells\"] = cells\n",
    "\n",
    "            jason = json.dumps(dictNotebook)\n",
    "\n",
    "            fileName = self.file.text().split('/')[-1].split('.')[0]\n",
    "\n",
    "            with open(self.destination.text() + f'/{fileName}.ipynb', 'w') as f:\n",
    "                f.write(jason)\n",
    "\n",
    "            self.message.setText(\"Success!. Your lazy ass can find your file in the destination folder. You can close this window now.  \")\n",
    "        \n",
    "        except:\n",
    "            self.message.setText(\"There was an error. Goodluck figuring it out.\")"
   ]
  },
  {
   "cell_type": "code",
   "execution_count": 4,
   "metadata": {},
   "outputs": [
    {
     "ename": "SystemExit",
     "evalue": "0",
     "output_type": "error",
     "traceback": [
      "An exception has occurred, use %tb to see the full traceback.\n",
      "\u001b[1;31mSystemExit\u001b[0m\u001b[1;31m:\u001b[0m 0\n"
     ]
    },
    {
     "name": "stderr",
     "output_type": "stream",
     "text": [
      "c:\\Users\\orect\\miniconda3\\envs\\env\\lib\\site-packages\\IPython\\core\\interactiveshell.py:3441: UserWarning: To exit: use 'exit', 'quit', or Ctrl-D.\n",
      "  warn(\"To exit: use 'exit', 'quit', or Ctrl-D.\", stacklevel=1)\n"
     ]
    }
   ],
   "source": [
    "if __name__ == \"__main__\":\n",
    "    app = QtWidgets.QApplication([])\n",
    "\n",
    "    app.setApplicationName(\"screeepy script file transmogrifier\")\n",
    "    app.setApplicationDisplayName('screeepy')\n",
    "\n",
    "    app.setWindowIcon(QtGui.QIcon('./Assets/icon.png'))\n",
    "\n",
    "    widget = MyWidget()\n",
    "    widget.resize(500, 200)\n",
    "    widget.show()\n",
    "\n",
    "    sys.exit(app.exec())"
   ]
  },
  {
   "cell_type": "code",
   "execution_count": null,
   "metadata": {},
   "outputs": [],
   "source": []
  }
 ],
 "metadata": {
  "kernelspec": {
   "display_name": "env",
   "language": "python",
   "name": "python3"
  },
  "language_info": {
   "codemirror_mode": {
    "name": "ipython",
    "version": 3
   },
   "file_extension": ".py",
   "mimetype": "text/x-python",
   "name": "python",
   "nbconvert_exporter": "python",
   "pygments_lexer": "ipython3",
   "version": "3.10.6"
  },
  "orig_nbformat": 4,
  "vscode": {
   "interpreter": {
    "hash": "7aa7eecd0f849ab40efe6ac0a8ce5383eaa0569ecfba7009708b3eaae53995d1"
   }
  }
 },
 "nbformat": 4,
 "nbformat_minor": 2
}
